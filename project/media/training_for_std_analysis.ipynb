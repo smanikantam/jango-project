{
 "cells": [
  {
   "cell_type": "code",
   "execution_count": 9,
   "id": "e7c61503",
   "metadata": {},
   "outputs": [],
   "source": [
    "import numpy as np\n",
    "import pandas as pd\n",
    "from sklearn.model_selection import train_test_split\n",
    "from sklearn.linear_model import LogisticRegression\n",
    "import joblib"
   ]
  },
  {
   "cell_type": "code",
   "execution_count": 2,
   "id": "cdbd1e2d",
   "metadata": {},
   "outputs": [],
   "source": [
    "dic={'very poor':0,'poor':1,'average':2,'good':3,'very good':4}"
   ]
  },
  {
   "cell_type": "code",
   "execution_count": 3,
   "id": "4e26a2b9",
   "metadata": {},
   "outputs": [],
   "source": [
    "data=pd.read_excel(\"std_details_s.xlsx\")"
   ]
  },
  {
   "cell_type": "code",
   "execution_count": 4,
   "id": "6241c690",
   "metadata": {},
   "outputs": [],
   "source": [
    "# data['status'].unique()\n",
    "data['status']=data['status'].replace('very poor','0')\n",
    "data['status']=data['status'].replace('poor','1')\n",
    "data['status']=data['status'].replace('average','2')\n",
    "data['status']=data['status'].replace('good','3')\n",
    "data['status']=data['status'].replace('very good','4')\n",
    "data['status']=data['status'].astype(float)\n",
    "data['marks']=data['marks'].astype(float)"
   ]
  },
  {
   "cell_type": "code",
   "execution_count": 5,
   "id": "7a181ecb",
   "metadata": {},
   "outputs": [],
   "source": [
    "x=data['marks']\n",
    "y=data['status']\n",
    "xtrain,xtest,ytrain,ytest=train_test_split(x,y)\n",
    "xtrain=np.array(xtrain).reshape(-1,1)\n",
    "ytrain=np.array(ytrain).reshape(-1,1)"
   ]
  },
  {
   "cell_type": "code",
   "execution_count": 11,
   "id": "1007148c",
   "metadata": {},
   "outputs": [
    {
     "name": "stderr",
     "output_type": "stream",
     "text": [
      "/Users/manikantamsadam/opt/anaconda3/lib/python3.9/site-packages/sklearn/utils/validation.py:993: DataConversionWarning: A column-vector y was passed when a 1d array was expected. Please change the shape of y to (n_samples, ), for example using ravel().\n",
      "  y = column_or_1d(y, warn=True)\n"
     ]
    },
    {
     "data": {
      "text/plain": [
       "['analysis_d.sav']"
      ]
     },
     "execution_count": 11,
     "metadata": {},
     "output_type": "execute_result"
    }
   ],
   "source": [
    "log=LogisticRegression()\n",
    "log.fit(xtrain,ytrain)\n",
    "f_name=\"analysis_d.sav\"\n",
    "joblib.dump(log,f_name)"
   ]
  },
  {
   "cell_type": "code",
   "execution_count": 7,
   "id": "18ae90be",
   "metadata": {},
   "outputs": [
    {
     "name": "stdout",
     "output_type": "stream",
     "text": [
      "[2. 0. 3.]\n",
      "3    2.0\n",
      "4    1.0\n",
      "9    3.0\n",
      "Name: status, dtype: float64\n"
     ]
    }
   ],
   "source": [
    "res=np.array(xtest).reshape(-1,1)\n",
    "print(log.predict(res))\n",
    "print(ytest)"
   ]
  },
  {
   "cell_type": "code",
   "execution_count": 8,
   "id": "efdf4923",
   "metadata": {},
   "outputs": [
    {
     "data": {
      "text/html": [
       "<div>\n",
       "<style scoped>\n",
       "    .dataframe tbody tr th:only-of-type {\n",
       "        vertical-align: middle;\n",
       "    }\n",
       "\n",
       "    .dataframe tbody tr th {\n",
       "        vertical-align: top;\n",
       "    }\n",
       "\n",
       "    .dataframe thead th {\n",
       "        text-align: right;\n",
       "    }\n",
       "</style>\n",
       "<table border=\"1\" class=\"dataframe\">\n",
       "  <thead>\n",
       "    <tr style=\"text-align: right;\">\n",
       "      <th></th>\n",
       "      <th>course_name</th>\n",
       "      <th>course_id</th>\n",
       "      <th>attempted_id</th>\n",
       "      <th>cand_name</th>\n",
       "      <th>cand_email</th>\n",
       "      <th>marks</th>\n",
       "      <th>grade</th>\n",
       "      <th>status</th>\n",
       "    </tr>\n",
       "  </thead>\n",
       "  <tbody>\n",
       "    <tr>\n",
       "      <th>0</th>\n",
       "      <td>chem</td>\n",
       "      <td>A6025</td>\n",
       "      <td>90</td>\n",
       "      <td>20881A0562</td>\n",
       "      <td>dskjc@kjdsnc.cd</td>\n",
       "      <td>100.0</td>\n",
       "      <td>A+</td>\n",
       "      <td>4.0</td>\n",
       "    </tr>\n",
       "    <tr>\n",
       "      <th>1</th>\n",
       "      <td>ml</td>\n",
       "      <td>A5720</td>\n",
       "      <td>456</td>\n",
       "      <td>20881A0593</td>\n",
       "      <td>dsjb@jdkfn.c</td>\n",
       "      <td>99.0</td>\n",
       "      <td>A</td>\n",
       "      <td>4.0</td>\n",
       "    </tr>\n",
       "    <tr>\n",
       "      <th>2</th>\n",
       "      <td>physics</td>\n",
       "      <td>A5645</td>\n",
       "      <td>4556</td>\n",
       "      <td>20881A05B1</td>\n",
       "      <td>fsv@d.j</td>\n",
       "      <td>0.0</td>\n",
       "      <td>F</td>\n",
       "      <td>0.0</td>\n",
       "    </tr>\n",
       "    <tr>\n",
       "      <th>3</th>\n",
       "      <td>ml</td>\n",
       "      <td>A5720</td>\n",
       "      <td>234</td>\n",
       "      <td>20881A05B1</td>\n",
       "      <td>fsv@d.j</td>\n",
       "      <td>50.0</td>\n",
       "      <td>B</td>\n",
       "      <td>2.0</td>\n",
       "    </tr>\n",
       "    <tr>\n",
       "      <th>4</th>\n",
       "      <td>chem</td>\n",
       "      <td>A6025</td>\n",
       "      <td>65</td>\n",
       "      <td>20881A05B1</td>\n",
       "      <td>fsv@d.j</td>\n",
       "      <td>34.0</td>\n",
       "      <td>C</td>\n",
       "      <td>1.0</td>\n",
       "    </tr>\n",
       "    <tr>\n",
       "      <th>5</th>\n",
       "      <td>physics</td>\n",
       "      <td>A5645</td>\n",
       "      <td>4556</td>\n",
       "      <td>20881A0562</td>\n",
       "      <td>dskjc@kjdsnc.cd</td>\n",
       "      <td>45.0</td>\n",
       "      <td>B</td>\n",
       "      <td>2.0</td>\n",
       "    </tr>\n",
       "    <tr>\n",
       "      <th>6</th>\n",
       "      <td>physics</td>\n",
       "      <td>A5645</td>\n",
       "      <td>23</td>\n",
       "      <td>20881A05B5</td>\n",
       "      <td>ekjwf@kjn.cd</td>\n",
       "      <td>67.0</td>\n",
       "      <td>B+</td>\n",
       "      <td>3.0</td>\n",
       "    </tr>\n",
       "    <tr>\n",
       "      <th>7</th>\n",
       "      <td>ml</td>\n",
       "      <td>A5720</td>\n",
       "      <td>456</td>\n",
       "      <td>20881A05C1</td>\n",
       "      <td>jkvs@fdkv.dsf</td>\n",
       "      <td>23.0</td>\n",
       "      <td>F</td>\n",
       "      <td>0.0</td>\n",
       "    </tr>\n",
       "    <tr>\n",
       "      <th>8</th>\n",
       "      <td>ml</td>\n",
       "      <td>A5720</td>\n",
       "      <td>435</td>\n",
       "      <td>20881A0545</td>\n",
       "      <td>dfg@f.ef</td>\n",
       "      <td>94.0</td>\n",
       "      <td>A+</td>\n",
       "      <td>4.0</td>\n",
       "    </tr>\n",
       "    <tr>\n",
       "      <th>9</th>\n",
       "      <td>chem</td>\n",
       "      <td>A6025</td>\n",
       "      <td>435</td>\n",
       "      <td>20881A05B2</td>\n",
       "      <td>gfsd@ds.d</td>\n",
       "      <td>75.0</td>\n",
       "      <td>A</td>\n",
       "      <td>3.0</td>\n",
       "    </tr>\n",
       "  </tbody>\n",
       "</table>\n",
       "</div>"
      ],
      "text/plain": [
       "  course_name course_id  attempted_id   cand_name       cand_email  marks  \\\n",
       "0        chem     A6025            90  20881A0562  dskjc@kjdsnc.cd  100.0   \n",
       "1          ml     A5720           456  20881A0593     dsjb@jdkfn.c   99.0   \n",
       "2     physics     A5645          4556  20881A05B1          fsv@d.j    0.0   \n",
       "3          ml     A5720           234  20881A05B1          fsv@d.j   50.0   \n",
       "4        chem     A6025            65  20881A05B1          fsv@d.j   34.0   \n",
       "5     physics     A5645          4556  20881A0562  dskjc@kjdsnc.cd   45.0   \n",
       "6     physics     A5645            23  20881A05B5     ekjwf@kjn.cd   67.0   \n",
       "7          ml     A5720           456  20881A05C1    jkvs@fdkv.dsf   23.0   \n",
       "8          ml     A5720           435  20881A0545         dfg@f.ef   94.0   \n",
       "9        chem     A6025           435  20881A05B2        gfsd@ds.d   75.0   \n",
       "\n",
       "  grade  status  \n",
       "0    A+     4.0  \n",
       "1     A     4.0  \n",
       "2     F     0.0  \n",
       "3     B     2.0  \n",
       "4     C     1.0  \n",
       "5     B     2.0  \n",
       "6    B+     3.0  \n",
       "7     F     0.0  \n",
       "8    A+     4.0  \n",
       "9     A     3.0  "
      ]
     },
     "execution_count": 8,
     "metadata": {},
     "output_type": "execute_result"
    }
   ],
   "source": [
    "data"
   ]
  },
  {
   "cell_type": "code",
   "execution_count": 12,
   "id": "4cf1cd1f",
   "metadata": {},
   "outputs": [],
   "source": [
    "analys=joblib.load(\"analysis_d.sav\")"
   ]
  },
  {
   "cell_type": "code",
   "execution_count": 13,
   "id": "c702906a",
   "metadata": {},
   "outputs": [
    {
     "data": {
      "text/plain": [
       "array([2., 0., 3.])"
      ]
     },
     "execution_count": 13,
     "metadata": {},
     "output_type": "execute_result"
    }
   ],
   "source": [
    "analys.predict(res)"
   ]
  },
  {
   "cell_type": "code",
   "execution_count": 25,
   "id": "a3ccb8ec",
   "metadata": {},
   "outputs": [
    {
     "name": "stdout",
     "output_type": "stream",
     "text": [
      "0\n",
      "1\n",
      "2\n",
      "3\n",
      "4\n",
      "very poor\n",
      "poor\n",
      "average\n",
      "good\n",
      "very good\n"
     ]
    }
   ],
   "source": [
    "for i in dic.values():\n",
    "    print(i)\n",
    "for i in dic.keys():\n",
    "    print(i)"
   ]
  },
  {
   "cell_type": "code",
   "execution_count": 28,
   "id": "14a62306",
   "metadata": {},
   "outputs": [
    {
     "name": "stdout",
     "output_type": "stream",
     "text": [
      "very poor 0\n",
      "poor 1\n",
      "average 2\n",
      "good 3\n",
      "very good 4\n"
     ]
    }
   ],
   "source": [
    "for i in dic:\n",
    "    print(i,dic[i])"
   ]
  },
  {
   "cell_type": "code",
   "execution_count": null,
   "id": "ffbcdffa",
   "metadata": {},
   "outputs": [],
   "source": []
  }
 ],
 "metadata": {
  "kernelspec": {
   "display_name": "Python 3 (ipykernel)",
   "language": "python",
   "name": "python3"
  },
  "language_info": {
   "codemirror_mode": {
    "name": "ipython",
    "version": 3
   },
   "file_extension": ".py",
   "mimetype": "text/x-python",
   "name": "python",
   "nbconvert_exporter": "python",
   "pygments_lexer": "ipython3",
   "version": "3.9.12"
  }
 },
 "nbformat": 4,
 "nbformat_minor": 5
}
